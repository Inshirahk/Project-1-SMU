{
 "cells": [
  {
   "cell_type": "code",
   "execution_count": null,
   "id": "18231894-2dd5-4e69-9760-f91eed30b315",
   "metadata": {},
   "outputs": [],
   "source": []
  }
 ],
 "metadata": {
  "kernelspec": {
   "display_name": "",
   "name": ""
  },
  "language_info": {
   "name": ""
  }
 },
 "nbformat": 4,
 "nbformat_minor": 5
}
